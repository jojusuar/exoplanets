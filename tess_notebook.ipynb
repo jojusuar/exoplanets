{
 "cells": [
  {
   "cell_type": "markdown",
   "id": "9c79930c",
   "metadata": {},
   "source": [
    "# TESS Mission model training"
   ]
  },
  {
   "cell_type": "markdown",
   "id": "1a7ae08f",
   "metadata": {},
   "source": [
    "## Dependencies"
   ]
  },
  {
   "cell_type": "code",
   "execution_count": null,
   "id": "imports",
   "metadata": {},
   "outputs": [],
   "source": [
    "import pandas as pd\n",
    "import keras\n",
    "from sklearn.model_selection import train_test_split\n",
    "from sklearn.metrics import confusion_matrix, classification_report\n",
    "import matplotlib.pyplot as plt\n",
    "import seaborn as sns\n",
    "import numpy as np\n",
    "import os\n",
    "import requests\n",
    "import joblib\n",
    "import random as rand\n",
    "from sklearn.preprocessing import StandardScaler"
   ]
  },
  {
   "cell_type": "markdown",
   "id": "efb39338",
   "metadata": {},
   "source": [
    "## Consuming the latest available TESS exoplanets database"
   ]
  },
  {
   "cell_type": "code",
   "execution_count": null,
   "id": "b7ba5d75",
   "metadata": {},
   "outputs": [],
   "source": [
    "print(\"Downloading TESS mission data...\")\n",
    "url = 'https://exoplanetarchive.ipac.caltech.edu/cgi-bin/IceTable/nph-iceTblDownload'\n",
    "tess_payload = {\n",
    "    \"workspace\": \"2025.10.01_20.06.09_019818/TblView/2025.10.04_08.07.24_035625\",\n",
    "    \"useTimestamp\": 1,\n",
    "    \"table\": \"/exodata/kvmexoweb/ExoTables/TOI.tbl\",\n",
    "    \"format\": \"CSV\",\n",
    "    \"user\": \"\",\n",
    "    \"label\": \"\",\n",
    "    \"columns\": \"all\",\n",
    "    \"rows\": \"all\",\n",
    "    \"mission\": \"ExoplanetArchive\"\n",
    "}\n",
    "response = requests.post(url, data=tess_payload)\n",
    "filename = \"tess_db.csv\"\n",
    "with open(filename, \"wb\") as f:\n",
    "    f.write(response.content)\n",
    "print(\"TESS mission data downloaded!\")"
   ]
  },
  {
   "cell_type": "markdown",
   "id": "3bc13b26",
   "metadata": {},
   "source": [
    "## Definition of the neural network architecture"
   ]
  },
  {
   "cell_type": "code",
   "execution_count": null,
   "id": "mlp_builder",
   "metadata": {},
   "outputs": [],
   "source": [
    "def build_mlp(column_count):\n",
    "    inputs = keras.Input(shape=(column_count,))\n",
    "    \n",
    "    x = keras.layers.Dense(32)(inputs)\n",
    "    x = keras.layers.BatchNormalization()(x)\n",
    "    x = keras.layers.Activation('relu')(x)\n",
    "    x = keras.layers.Dropout(0.3)(x)\n",
    "\n",
    "    x = keras.layers.Dense(16)(x)\n",
    "    x = keras.layers.BatchNormalization()(x)\n",
    "    x = keras.layers.Activation('relu')(x)\n",
    "    x = keras.layers.Dropout(0.2)(x)\n",
    "\n",
    "    x = keras.layers.Dense(8)(x)\n",
    "    x = keras.layers.BatchNormalization()(x)\n",
    "    x = keras.layers.Activation('relu')(x)\n",
    "    x = keras.layers.Dropout(0.2)(x)\n",
    "    \n",
    "    output = keras.layers.Dense(1, activation='sigmoid')(x)\n",
    "    return keras.Model(inputs, output)"
   ]
  },
  {
   "cell_type": "markdown",
   "id": "56aba44a",
   "metadata": {},
   "source": [
    "## Data preprocessing"
   ]
  },
  {
   "cell_type": "code",
   "execution_count": null,
   "id": "load_data",
   "metadata": {},
   "outputs": [],
   "source": [
    "\n",
    "df = pd.read_csv(filename, comment='#')\n",
    "cols_to_drop = [\n",
    "    \"rowid\", \"toi\", \"toipfx\", \"tid\", \"ctoi_alias\", \"pl_pnum\",\n",
    "    \"rastr\", \"raerr1\", \"raerr2\", \"decstr\", \"dec\", \"decerr1\", \"decerr2\",\n",
    "    \"st_pmralim\", \"st_pmrasymerr\",\n",
    "    \"st_pmdeclim\", \"st_pmdecsymerr\",\n",
    "    \"pl_tranmidlim\", \"pl_tranmidsymerr\",\n",
    "    \"pl_orbperlim\", \"pl_orbpersymerr\",\n",
    "    \"pl_trandurhlim\", \"pl_trandurhsymerr\",\n",
    "    \"pl_trandeplim\", \"pl_trandepsymerr\",\n",
    "    \"pl_radelim\", \"pl_radesymerr\",\n",
    "    \"pl_insolerr1\", \"pl_insolerr2\", \"pl_insollim\", \"pl_insolsymerr\",\n",
    "    \"pl_eqterr1\", \"pl_eqterr2\", \"pl_eqtlim\", \"pl_eqtsymerr\",\n",
    "    \"st_tmaglim\", \"st_tmagsymerr\",\n",
    "    \"st_distlim\", \"st_distsymerr\",\n",
    "    \"st_tefflim\", \"st_teffsymerr\",\n",
    "    \"st_logglim\", \"st_loggsymerr\",\n",
    "    \"st_radlim\", \"st_radsymerr\",\n",
    "    \"toi_created\", \"rowupdate\"\n",
    "]\n",
    "\n",
    "df = df.drop(columns=cols_to_drop).reset_index(drop=True)\n",
    "\n",
    "Y = df['tfopwg_disp'].map({'FP': 0, 'FA': 0, 'CP': 1, 'KP': 1})\n",
    "X = df.drop(columns=['tfopwg_disp'])\n",
    "X_filled = X.fillna(0)\n",
    "X_encoded = pd.get_dummies(X_filled, drop_first=False).astype(np.float32)\n",
    "\n",
    "mask = Y.notna()\n",
    "X_encoded = X_encoded[mask]\n",
    "Y = Y[mask].astype(np.float32)\n",
    "\n",
    "scaler = StandardScaler()\n",
    "X_scaled = scaler.fit_transform(X_encoded).astype(np.float32)\n",
    "joblib.dump(scaler, 'tess_scaler.pkl')\n"
   ]
  },
  {
   "cell_type": "markdown",
   "id": "b6738f0e",
   "metadata": {},
   "source": [
    "## Train/test split"
   ]
  },
  {
   "cell_type": "code",
   "execution_count": null,
   "id": "split_data",
   "metadata": {},
   "outputs": [],
   "source": [
    "X_train, X_test, Y_train, Y_test = train_test_split(\n",
    "    X_scaled, Y, test_size=0.2, random_state=42, shuffle=True\n",
    ")"
   ]
  },
  {
   "cell_type": "markdown",
   "id": "bd57b208",
   "metadata": {},
   "source": [
    "## Neural network compilation"
   ]
  },
  {
   "cell_type": "code",
   "execution_count": null,
   "id": "build_compile_model",
   "metadata": {},
   "outputs": [],
   "source": [
    "model = build_mlp(X_encoded.shape[1])\n",
    "model.compile(\n",
    "    optimizer=keras.optimizers.Adam(learning_rate=1e-3),\n",
    "    loss='binary_crossentropy'\n",
    ")\n",
    "model.summary()"
   ]
  },
  {
   "cell_type": "markdown",
   "id": "7c95fe48",
   "metadata": {},
   "source": [
    "## Training callbacks"
   ]
  },
  {
   "cell_type": "code",
   "execution_count": null,
   "id": "early_stopping",
   "metadata": {},
   "outputs": [],
   "source": [
    "early_stop = keras.callbacks.EarlyStopping(\n",
    "    monitor='val_loss',\n",
    "    patience=50,\n",
    "    restore_best_weights=True\n",
    ")"
   ]
  },
  {
   "cell_type": "markdown",
   "id": "e888aa1d",
   "metadata": {},
   "source": [
    "## Model fitting"
   ]
  },
  {
   "cell_type": "code",
   "execution_count": null,
   "id": "train_model",
   "metadata": {},
   "outputs": [],
   "source": [
    "model.fit(\n",
    "    X_train, Y_train,\n",
    "    batch_size=64,\n",
    "    epochs=1000,\n",
    "    validation_split=0.1,\n",
    "    callbacks=[early_stop]\n",
    ")"
   ]
  },
  {
   "cell_type": "code",
   "execution_count": null,
   "id": "save_model",
   "metadata": {},
   "outputs": [],
   "source": [
    "model.save('tess.keras')"
   ]
  },
  {
   "cell_type": "markdown",
   "id": "496c2098",
   "metadata": {},
   "source": [
    "## Testing and model evaluation"
   ]
  },
  {
   "cell_type": "code",
   "execution_count": null,
   "id": "evaluate_model",
   "metadata": {},
   "outputs": [],
   "source": [
    "labels = ['FALSE POSITIVE', 'CONFIRMED']\n",
    "\n",
    "Y_pred_probs = model.predict(X_test)\n",
    "Y_pred = (Y_pred_probs >= 0.5).astype(int).flatten()\n",
    "Y_true = Y_test.values.astype(int).flatten() \n",
    "\n",
    "Y_pred_strings = [labels[i] for i in Y_pred]\n",
    "Y_true_strings = [labels[i] for i in Y_true]\n",
    "\n",
    "cm = confusion_matrix(Y_true_strings, Y_pred_strings, labels=labels)\n",
    "print(classification_report(Y_true_strings, Y_pred_strings, target_names=labels))\n",
    "plt.figure(figsize=(8,6))\n",
    "sns.heatmap(cm, annot=True, fmt='d', cmap='Blues', xticklabels=labels, yticklabels=labels)\n",
    "plt.xlabel('Predicted')\n",
    "plt.ylabel('Actual')\n",
    "plt.title('Confusion Matrix')\n",
    "plt.show()"
   ]
  },
  {
   "cell_type": "markdown",
   "id": "309d70d5",
   "metadata": {},
   "source": [
    "# TESS model inference"
   ]
  },
  {
   "cell_type": "markdown",
   "id": "a96608bb",
   "metadata": {},
   "source": [
    "## Data preprocessing"
   ]
  },
  {
   "cell_type": "code",
   "execution_count": null,
   "metadata": {},
   "outputs": [],
   "source": [
    "filename = \"tess_db.csv\"\n",
    "df = pd.read_csv(filename, comment='#')\n",
    "cols_to_drop = [\n",
    "    \"rowid\",'tfopwg_disp', \"toi\", \"toipfx\", \"tid\", \"ctoi_alias\", \"pl_pnum\",\n",
    "    \"rastr\", \"raerr1\", \"raerr2\", \"decstr\", \"dec\", \"decerr1\", \"decerr2\",\n",
    "    \"st_pmralim\", \"st_pmrasymerr\",\n",
    "    \"st_pmdeclim\", \"st_pmdecsymerr\",\n",
    "    \"pl_tranmidlim\", \"pl_tranmidsymerr\",\n",
    "    \"pl_orbperlim\", \"pl_orbpersymerr\",\n",
    "    \"pl_trandurhlim\", \"pl_trandurhsymerr\",\n",
    "    \"pl_trandeplim\", \"pl_trandepsymerr\",\n",
    "    \"pl_radelim\", \"pl_radesymerr\",\n",
    "    \"pl_insolerr1\", \"pl_insolerr2\", \"pl_insollim\", \"pl_insolsymerr\",\n",
    "    \"pl_eqterr1\", \"pl_eqterr2\", \"pl_eqtlim\", \"pl_eqtsymerr\",\n",
    "    \"st_tmaglim\", \"st_tmagsymerr\",\n",
    "    \"st_distlim\", \"st_distsymerr\",\n",
    "    \"st_tefflim\", \"st_teffsymerr\",\n",
    "    \"st_logglim\", \"st_loggsymerr\",\n",
    "    \"st_radlim\", \"st_radsymerr\",\n",
    "    \"toi_created\", \"rowupdate\"\n",
    "]\n",
    "df_clean = df.drop(columns=cols_to_drop).reset_index(drop=True)\n",
    "\n",
    "Y = df['tfopwg_disp'].map({'FP': 0, 'FA': 0, 'CP': 1, 'KP': 1})\n",
    "X = df.drop(columns=cols_to_drop)\n",
    "X_filled = X.fillna(0)\n",
    "X_encoded = pd.get_dummies(X_filled, drop_first=False).astype(np.float32)\n",
    "\n",
    "mask = Y.isna()\n",
    "X_encoded = X_encoded[mask]\n",
    "scaler = joblib.load('tess_scaler.pkl')\n",
    "X_scaled = scaler.transform(X_encoded).astype(np.float32)"
   ]
  },
  {
   "cell_type": "markdown",
   "id": "40ce519c",
   "metadata": {},
   "source": [
    "## Predictions generation"
   ]
  },
  {
   "cell_type": "code",
   "execution_count": null,
   "metadata": {},
   "outputs": [],
   "source": [
    "labels = ['FALSE POSITIVE', 'CONFIRMED']\n",
    "model = keras.models.load_model('tess.keras')\n",
    "pred_org = model.predict(X_scaled)\n",
    "pred = (pred_org >= 0.5).astype(int).flatten()"
   ]
  },
  {
   "cell_type": "markdown",
   "id": "084d2a9c",
   "metadata": {},
   "source": [
    "## Saving predictions"
   ]
  },
  {
   "cell_type": "code",
   "execution_count": null,
   "metadata": {},
   "outputs": [],
   "source": [
    "candidates_meta = df.loc[mask, ['toi']]\n",
    "\n",
    "with open('tess_predictions.csv', 'w') as f:\n",
    "    f.write('toi,tfopwg_disp_pred,tfopwg_disp_pred_value\\n')\n",
    "    for i, (_, row) in enumerate(candidates_meta.iterrows()):\n",
    "        f.write(f\"{row['toi']},{labels[pred[i]]},{pred_org[i][0]}\\n\")"
   ]
  },
  {
   "cell_type": "markdown",
   "id": "f5c1738d",
   "metadata": {},
   "source": [
    "# TESS Exoplanet candidates catalog export to Celestia\n",
    "This section of the notebook processes the **TESS mission exoplanet catalog** to generate `.stc`, `.ssc`, and `.cel` files compatible with **Celestia**."
   ]
  },
  {
   "cell_type": "markdown",
   "id": "db8c68df",
   "metadata": {},
   "source": [
    "## Function definitions"
   ]
  },
  {
   "cell_type": "code",
   "execution_count": null,
   "metadata": {},
   "outputs": [],
   "source": [
    "G = 6.67430e-11\n",
    "R_sun = 6.957e8\n",
    "M_sun = 1.989e30\n",
    "L_sun = 3.828e26\n",
    "sigma = 5.670374419e-8\n",
    "\n",
    "def estimate_semimajor_axis(row):\n",
    "    try:\n",
    "        if pd.isna(row.get(\"pl_orbper\")) or pd.isna(row.get(\"st_rad\")) or pd.isna(row.get(\"st_logg\")):\n",
    "            return np.nan\n",
    "        R_star = row[\"st_rad\"] * R_sun\n",
    "        g_cgs = 10 ** row[\"st_logg\"]\n",
    "        g = g_cgs / 100.0\n",
    "        M_star = g * R_star**2 / G\n",
    "        P_sec = row[\"pl_orbper\"] * 86400.0\n",
    "        a_m = (G * M_star * P_sec**2 / (4 * np.pi**2))**(1/3)\n",
    "        a_au = a_m / 1.496e11\n",
    "        return a_au\n",
    "    except Exception:\n",
    "        return np.nan\n",
    "\n",
    "def generate_star(star_id, star_name, ra, dec, distance_ly, appmag, spectral_type):\n",
    "    entry = ''\n",
    "    entry += f'{star_id} \"{star_name}\" {{\\n'\n",
    "    entry += f'    RA {ra:.6f}\\n'\n",
    "    entry += f'    Dec {dec:.6f}\\n'\n",
    "    entry += f'    Distance {distance_ly:.2f}\\n'\n",
    "    entry += f'    SpectralType \"{spectral_type}\"\\n'\n",
    "    entry += f'    AppMag {appmag:.2f}\\n'\n",
    "    entry += '}\\n\\n'\n",
    "    return entry\n",
    "\n",
    "textures = [\n",
    "    'GJ_504_b.jpg','HAT-P-11_b.jpg','Kepler-452_b.jpg','Proxima_Cen_b.jpg',\n",
    "    'HD_189733_b.jpg','Kepler-7_b.jpg','YZ_Cet_d.jpg','Kepler-22_b.jpg',\n",
    "    'OGLE-2005-BLG-390L_b.jpg','exo-class1.*','exo-class2.*','exo-class3.*',\n",
    "    'exo-class4.*','exo-class5.*','venuslike.*','asteroid.*'\n",
    "]\n",
    "\n",
    "def generate_planet(star_name, planet_name, radius_km, period, semimajoraxis, eccentricity, inclination):\n",
    "    entry = ''\n",
    "    texture = rand.choice(textures)\n",
    "    entry += f'\"{planet_name}\" \"{star_name}\"\\n'\n",
    "    entry += '{\\n'\n",
    "    entry += '    Class \"Planet\"\\n'\n",
    "    entry += f'    Radius {radius_km:.2f}\\n'\n",
    "    entry += f'    Texture \"{texture}\"\\n'\n",
    "    if not (pd.isna(period) and pd.isna(semimajoraxis)):\n",
    "        entry += '    EllipticalOrbit\\n'\n",
    "        entry += '    {\\n'\n",
    "        if not pd.isna(period):\n",
    "            entry += f'        Period {period:.6f}\\n'\n",
    "        if not pd.isna(semimajoraxis):\n",
    "            entry += f'        SemiMajorAxis {semimajoraxis:.6f}\\n'\n",
    "        entry += f'        Eccentricity {0.0 if pd.isna(eccentricity) else eccentricity:.6f}\\n'\n",
    "        entry += f'        Inclination {0.0 if pd.isna(inclination) else inclination:.6f}\\n'\n",
    "        entry += '    }\\n'\n",
    "    entry += '}\\n\\n'\n",
    "    return entry\n",
    "\n",
    "def generate_script_entry(planet_name, star_name, distance_ly, pred, value):\n",
    "    text = f'Planet: {planet_name}\\nApprox. {round(distance_ly,2)} light years away from Earth\\n'\n",
    "    if str(pred).upper() == \"CONFIRMED\":\n",
    "        text += \"Prediction: Real exoplanet\\n\"\n",
    "        text += f'Confidence: {int(value*100)}%'\n",
    "    elif str(pred).upper() == \"FALSE POSITIVE\":\n",
    "        text += 'Prediction: False positive\\n'\n",
    "        text += f'Confidence: {int((1-value)*100)}%'\n",
    "    else:\n",
    "        text += \"Prediction: unknown\\n\"\n",
    "    entry = ''\n",
    "    entry += f'select {{object \"{star_name}\"}}\\n'\n",
    "    entry += f'select {{object \"{planet_name}\"}}\\n'\n",
    "    entry += 'goto { time 8 distance 5 }\\n'\n",
    "    entry += 'wait { duration 8 }\\n'\n",
    "    entry += f'print {{ text \"{text}\"\\n'\n",
    "    entry += '         origin \"top\"\\n'\n",
    "    entry += '         row 5\\n'\n",
    "    entry += '         column -8\\n'\n",
    "    entry += '         duration 8 }\\n'\n",
    "    entry += 'orbit {duration 8 rate 45 axis [0 1 0] }\\n\\n'\n",
    "    return entry\n"
   ]
  },
  {
   "cell_type": "markdown",
   "id": "d7848ea3",
   "metadata": {},
   "source": [
    "## Folder structure declaration"
   ]
  },
  {
   "cell_type": "code",
   "execution_count": null,
   "id": "70064263",
   "metadata": {},
   "outputs": [],
   "source": [
    "tess_file = \"tess_db.csv\"\n",
    "tess_predictions_file = \"tess_predictions.csv\"\n",
    "local_extras = \"extras\"\n",
    "os.makedirs(local_extras, exist_ok=True)\n",
    "scripts_dir = os.path.join(local_extras, \"Scripts\")\n",
    "os.makedirs(scripts_dir, exist_ok=True)"
   ]
  },
  {
   "cell_type": "markdown",
   "id": "8fa63b9d",
   "metadata": {},
   "source": [
    "## Loading predictions from file"
   ]
  },
  {
   "cell_type": "code",
   "execution_count": null,
   "metadata": {},
   "outputs": [],
   "source": [
    "df_tess = pd.read_csv(tess_file, comment=\"#\")\n",
    "df_tess_candidates = df_tess[df_tess[\"tfopwg_disp\"] == \"PC\"].copy()\n",
    "df_tess_candidates[\"distance_ly\"] = df_tess_candidates[\"st_dist\"] * 3.26156\n",
    "\n",
    "tess_predictions = pd.read_csv(tess_predictions_file)\n",
    "df_tess_candidates = df_tess_candidates.merge(\n",
    "    tess_predictions[[\"toi\", \"tfopwg_disp_pred\", \"tfopwg_disp_pred_value\"]],\n",
    "    on=\"toi\",\n",
    "    how=\"left\"\n",
    ")"
   ]
  },
  {
   "cell_type": "markdown",
   "id": "7f2f82dc",
   "metadata": {},
   "source": [
    "## Generating host stars catalog"
   ]
  },
  {
   "cell_type": "code",
   "execution_count": null,
   "metadata": {},
   "outputs": [],
   "source": [
    "tess_stars_stc_path = os.path.join(local_extras, \"toi_hosts.stc\")\n",
    "with open(tess_stars_stc_path, \"w\") as stc_file:\n",
    "    for idx, row in df_tess_candidates.iterrows():\n",
    "        if pd.isna(row.get(\"pl_rade\")):\n",
    "            continue\n",
    "        entry = generate_star(\n",
    "            star_id=rand.randint(10000,999999),\n",
    "            star_name=f'Star-{row[\"toi\"]}',\n",
    "            ra=row[\"ra\"],\n",
    "            dec=row[\"dec\"],\n",
    "            distance_ly=row[\"distance_ly\"],\n",
    "            appmag=row[\"st_tmag\"] if pd.notna(row.get(\"st_tmag\")) else 12,\n",
    "            spectral_type=\"G0\"\n",
    "        )\n",
    "        stc_file.write(entry)\n",
    "\n",
    "print(tess_stars_stc_path)\n"
   ]
  },
  {
   "cell_type": "markdown",
   "id": "109ba883",
   "metadata": {},
   "source": [
    "## Generating candidate exoplanets catalog"
   ]
  },
  {
   "cell_type": "code",
   "execution_count": null,
   "metadata": {},
   "outputs": [],
   "source": [
    "tess_planets_ssc_path = os.path.join(local_extras, \"toi_candidates.ssc\")\n",
    "with open(tess_planets_ssc_path, \"w\") as ssc_file:\n",
    "    for idx, row in df_tess_candidates.iterrows():\n",
    "        if pd.isna(row.get(\"pl_rade\")):\n",
    "            continue\n",
    "        radius_km = row[\"pl_rade\"] * 6378.0\n",
    "        sma = estimate_semimajor_axis(row)\n",
    "        entry = generate_planet(\n",
    "            star_name=f'Star-{row[\"toi\"]}',\n",
    "            planet_name=f'TOI-{row[\"toi\"]}',\n",
    "            radius_km=radius_km,\n",
    "            period=row.get(\"pl_orbper\"),\n",
    "            semimajoraxis=sma,\n",
    "            eccentricity=0.0,\n",
    "            inclination=0.0\n",
    "        )\n",
    "        ssc_file.write(entry)\n",
    "\n",
    "print(tess_planets_ssc_path)\n"
   ]
  },
  {
   "cell_type": "markdown",
   "id": "36325245",
   "metadata": {},
   "source": [
    "## Generating TESS visualizer script"
   ]
  },
  {
   "cell_type": "code",
   "execution_count": null,
   "metadata": {},
   "outputs": [],
   "source": [
    "tess_cel_file_path = os.path.join(scripts_dir, \"toi_candidates.cel\")\n",
    "with open(tess_cel_file_path, \"w\") as f_cel:\n",
    "    f_cel.write(\"{\\n\")\n",
    "    for idx, row in df_tess_candidates.iterrows():\n",
    "        if pd.isna(row.get(\"pl_rade\")):\n",
    "            continue\n",
    "        entry = generate_script_entry(\n",
    "            planet_name=f'TOI-{row[\"toi\"]}',\n",
    "            star_name=f'Star-{row[\"toi\"]}',\n",
    "            distance_ly=row.get(\"distance_ly\", 0),\n",
    "            pred=row.get(\"tfopwg_disp_pred\", \"unknown\"),\n",
    "            value=float(row.get(\"tfopwg_disp_pred_value\", 0.5)) if not pd.isna(row.get(\"tfopwg_disp_pred_value\")) else 0.5\n",
    "        )\n",
    "        f_cel.write(entry)\n",
    "    f_cel.write(\"}\\n\")\n",
    "\n",
    "print(tess_cel_file_path)"
   ]
  }
 ],
 "metadata": {
  "kernelspec": {
   "display_name": ".venv",
   "language": "python",
   "name": "python3"
  },
  "language_info": {
   "codemirror_mode": {
    "name": "ipython",
    "version": 3
   },
   "file_extension": ".py",
   "mimetype": "text/x-python",
   "name": "python",
   "nbconvert_exporter": "python",
   "pygments_lexer": "ipython3",
   "version": "3.12.3"
  }
 },
 "nbformat": 4,
 "nbformat_minor": 5
}
